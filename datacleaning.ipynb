{
 "cells": [
  {
   "cell_type": "code",
   "execution_count": 188,
   "metadata": {
    "collapsed": true
   },
   "outputs": [
    {
     "name": "stdout",
     "output_type": "stream",
     "text": [
      "There are 2113 flights leaving from JFK to SLC\n",
      "2\n",
      "10.052380952380952\n",
      "0.5332653581442773\n",
      "          Unnamed: 0    year  month  day     dep_time  dep_delay     arr_time  \\\n",
      "date                                                                            \n",
      "2013/3/8    143267.0  2013.0    3.0  8.0  1416.659574  83.536921  1503.931078   \n",
      "\n",
      "          arr_delay       flight    air_time     distance       hour  \\\n",
      "date                                                                   \n",
      "2013/3/8  85.862155  2013.537283  153.746867  1002.540347  13.867334   \n",
      "\n",
      "             minute  \n",
      "date                 \n",
      "2013/3/8  29.926158  \n"
     ]
    },
    {
     "ename": "NameError",
     "evalue": "name 'q_6' is not defined",
     "output_type": "error",
     "traceback": [
      "\u001B[0;31m---------------------------------------------------------------------------\u001B[0m",
      "\u001B[0;31mNameError\u001B[0m                                 Traceback (most recent call last)",
      "Cell \u001B[0;32mIn [188], line 42\u001B[0m\n\u001B[1;32m     40\u001B[0m \u001B[38;5;28mprint\u001B[39m(q_5)\n\u001B[1;32m     41\u001B[0m \u001B[38;5;66;03m#Question 6 Which date has the largest average arrival delay? pd slice with date and float\u001B[39;00m\n\u001B[0;32m---> 42\u001B[0m \u001B[43mq_6\u001B[49m\n\u001B[1;32m     43\u001B[0m \u001B[38;5;66;03m#Question 7 Which flight departing LGA or JFK in 2013 flew the fastest? pd slice with tailnumber and speed\u001B[39;00m\n\u001B[1;32m     44\u001B[0m \u001B[38;5;66;03m#speed = distance/airtime\u001B[39;00m\n\u001B[1;32m     45\u001B[0m q_7\n",
      "\u001B[0;31mNameError\u001B[0m: name 'q_6' is not defined"
     ]
    }
   ],
   "source": [
    "# -*- coding: utf-8 -*-\n",
    "\n",
    "import pandas as pd\n",
    "\n",
    "import numpy as np\n",
    "\n",
    "flights_data = pd.read_csv('/Users/michaltvrdik/Documents/GitHub/data for cleaning/flights.csv')\n",
    "flights_data.head(10)\n",
    "weather_data_pd = pd.read_csv('/Users/michaltvrdik/Documents/GitHub/data for cleaning/weather.csv')\n",
    "weather_data_np = weather_data_pd.to_numpy()\n",
    "#use flights_data\n",
    "\n",
    "#Question 1 How many flights were there from JFK to SLC? Int\n",
    "JFK_to_SLC = flights_data[(flights_data['origin'] == 'JFK') & (flights_data['dest'] == 'SLC')]\n",
    "q_1 = len(JFK_to_SLC)\n",
    "print(f'There are {q_1} flights leaving from JFK to SLC')\n",
    "\n",
    "#Question 2 How many airlines fly to SLC? Should be int\n",
    "SLC_Airlines = flights_data[(flights_data['dest'] == 'SLC')] #variable for flights with a destination of SLC\n",
    "print(len(SLC_Airlines.drop_duplicates('carrier'))) #getting the length of the\n",
    "\n",
    "#Question 3 What is the average arrival delay for flights to RDU? float\n",
    "RDU_Flights = flights_data[(flights_data['dest'] == 'RDU')] #getting all flights to RDU\n",
    "print(RDU_Flights['arr_delay'].mean()) #I believe this will give me the average arrival delay for RDU flights\n",
    "\n",
    "#Question 4 What proportion of flights to SEA come from the two NYC airports (LGA and JFK)?  float\n",
    "SEA_Flights = flights_data[(flights_data['dest'] == 'SEA')] #this is all the flights to seattle\n",
    "\n",
    "#SEA_Flights_from_NYC = SEA_Flights[SEA_Flights['origin'] == ('LGA' or 'JFK')]\n",
    "SEA_Flights_from_NYC = flights_data[(flights_data['origin'] == 'JFK') & (flights_data['dest'] == 'SEA')] #here are flights to seattle from new york city. I found there were no flights from LGA\n",
    "print(len(SEA_Flights_from_NYC)/len(SEA_Flights))\n",
    "\n",
    "#Question 5 Which date has the largest average departure delay? Pd slice with date and float\n",
    "#please make date a column. Preferred format is 2013/1/1 (y/m/d)\n",
    "flights_data[\"date\"] = flights_data[\"year\"].map(str) + '/' + flights_data[\"month\"].map(str) + '/' + flights_data[\"day\"].map(str) #used strings to concatenate better\n",
    "date = pd.to_datetime(flights_data['date']) #changing to datetime to be able to manipulate better\n",
    "dep_delay_group = flights_data.groupby(['date']).mean('dep_delay') #I want to group by date and get the average dep delay time\n",
    "#print(dep_delay_group) #I believe it worked because there is only an output of 365 rows (days in the year)\n",
    "q_5 = dep_delay_group.sort_values(\"dep_delay\", ascending = False).head(1) #sorting by dep delay to put on top and only showing top\n",
    "print(q_5)\n",
    "#Question 6 Which date has the largest average arrival delay? pd slice with date and float\n",
    "q_6\n",
    "#Question 7 Which flight departing LGA or JFK in 2013 flew the fastest? pd slice with tailnumber and speed\n",
    "#speed = distance/airtime\n",
    "q_7\n",
    "#Question 8 Replace all nans in the weather pd dataframe with 0s. Pd with no nans\n",
    "q_8\n",
    "#Use weather_data_np\n",
    "#Question 9 How many observations were made in Feburary? Int\n",
    "q_9\n",
    "#Question 10 What was the mean for humidity in February? Float\n",
    "q_10\n",
    "#Question 11 What was the std for humidity in February? Float\n",
    "q_11\n"
   ]
  },
  {
   "cell_type": "code",
   "execution_count": 5,
   "outputs": [],
   "source": [],
   "metadata": {
    "collapsed": false
   }
  },
  {
   "cell_type": "code",
   "execution_count": null,
   "outputs": [],
   "source": [],
   "metadata": {
    "collapsed": false
   }
  }
 ],
 "metadata": {
  "kernelspec": {
   "display_name": "Python 3",
   "language": "python",
   "name": "python3"
  },
  "language_info": {
   "codemirror_mode": {
    "name": "ipython",
    "version": 2
   },
   "file_extension": ".py",
   "mimetype": "text/x-python",
   "name": "python",
   "nbconvert_exporter": "python",
   "pygments_lexer": "ipython2",
   "version": "2.7.6"
  }
 },
 "nbformat": 4,
 "nbformat_minor": 0
}
